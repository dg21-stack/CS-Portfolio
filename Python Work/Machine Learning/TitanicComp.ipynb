{
 "cells": [
  {
   "cell_type": "markdown",
   "id": "3ee7829f",
   "metadata": {},
   "source": [
    "## Kaggle Titanic Competition\n",
    "#### Top Score: 0.8010 (i.e., a model with efficiency of 80%)"
   ]
  },
  {
   "cell_type": "code",
   "execution_count": 1,
   "id": "a0f3ed75",
   "metadata": {
    "_cell_guid": "b1076dfc-b9ad-4769-8c92-a6c4dae69d19",
    "_uuid": "8f2839f25d086af736a60e9eeb907d3b93b6e0e5",
    "execution": {
     "iopub.execute_input": "2022-09-13T00:31:41.956071Z",
     "iopub.status.busy": "2022-09-13T00:31:41.955429Z",
     "iopub.status.idle": "2022-09-13T00:31:41.973256Z",
     "shell.execute_reply": "2022-09-13T00:31:41.971960Z"
    },
    "papermill": {
     "duration": 0.027698,
     "end_time": "2022-09-13T00:31:41.976130",
     "exception": false,
     "start_time": "2022-09-13T00:31:41.948432",
     "status": "completed"
    },
    "tags": []
   },
   "outputs": [
    {
     "name": "stdout",
     "output_type": "stream",
     "text": [
      "/kaggle/input/titanic/train.csv\n",
      "/kaggle/input/titanic/test.csv\n",
      "/kaggle/input/titanic/gender_submission.csv\n"
     ]
    }
   ],
   "source": [
    "# This Python 3 environment comes with many helpful analytics libraries installed\n",
    "# It is defined by the kaggle/python Docker image: https://github.com/kaggle/docker-python\n",
    "# For example, here's several helpful packages to load\n",
    "\n",
    "import numpy as np # linear algebra\n",
    "import pandas as pd # data processing, CSV file I/O (e.g. pd.read_csv)\n",
    "\n",
    "# Input data files are available in the read-only \"../input/\" directory\n",
    "# For example, running this (by clicking run or pressing Shift+Enter) will list all files under the input directory\n",
    "\n",
    "import os\n",
    "for dirname, _, filenames in os.walk('/kaggle/input'):\n",
    "    for filename in filenames:\n",
    "        print(os.path.join(dirname, filename))\n",
    "\n",
    "# You can write up to 20GB to the current directory (/kaggle/working/) that gets preserved as output when you create a version using \"Save & Run All\" \n",
    "# You can also write temporary files to /kaggle/temp/, but they won't be saved outside of the current session"
   ]
  },
  {
   "cell_type": "code",
   "execution_count": 2,
   "id": "0b451040",
   "metadata": {
    "execution": {
     "iopub.execute_input": "2022-09-13T00:31:41.985066Z",
     "iopub.status.busy": "2022-09-13T00:31:41.984640Z",
     "iopub.status.idle": "2022-09-13T00:31:43.410260Z",
     "shell.execute_reply": "2022-09-13T00:31:43.408907Z"
    },
    "papermill": {
     "duration": 1.433272,
     "end_time": "2022-09-13T00:31:43.413256",
     "exception": false,
     "start_time": "2022-09-13T00:31:41.979984",
     "status": "completed"
    },
    "tags": []
   },
   "outputs": [
    {
     "data": {
      "text/html": [
       "<div>\n",
       "<style scoped>\n",
       "    .dataframe tbody tr th:only-of-type {\n",
       "        vertical-align: middle;\n",
       "    }\n",
       "\n",
       "    .dataframe tbody tr th {\n",
       "        vertical-align: top;\n",
       "    }\n",
       "\n",
       "    .dataframe thead th {\n",
       "        text-align: right;\n",
       "    }\n",
       "</style>\n",
       "<table border=\"1\" class=\"dataframe\">\n",
       "  <thead>\n",
       "    <tr style=\"text-align: right;\">\n",
       "      <th></th>\n",
       "      <th>PassengerId</th>\n",
       "      <th>Pclass</th>\n",
       "      <th>Name</th>\n",
       "      <th>Sex</th>\n",
       "      <th>Age</th>\n",
       "      <th>SibSp</th>\n",
       "      <th>Parch</th>\n",
       "      <th>Ticket</th>\n",
       "      <th>Fare</th>\n",
       "      <th>Cabin</th>\n",
       "      <th>Embarked</th>\n",
       "      <th>is_women_or_child</th>\n",
       "    </tr>\n",
       "  </thead>\n",
       "  <tbody>\n",
       "    <tr>\n",
       "      <th>533</th>\n",
       "      <td>534</td>\n",
       "      <td>3</td>\n",
       "      <td>Peter, Mrs. Catherine (Catherine Rizk)</td>\n",
       "      <td>female</td>\n",
       "      <td>NaN</td>\n",
       "      <td>0</td>\n",
       "      <td>2</td>\n",
       "      <td>2668</td>\n",
       "      <td>22.3583</td>\n",
       "      <td>NaN</td>\n",
       "      <td>C</td>\n",
       "      <td>True</td>\n",
       "    </tr>\n",
       "    <tr>\n",
       "      <th>730</th>\n",
       "      <td>731</td>\n",
       "      <td>1</td>\n",
       "      <td>Allen, Miss. Elisabeth Walton</td>\n",
       "      <td>female</td>\n",
       "      <td>29.0</td>\n",
       "      <td>0</td>\n",
       "      <td>0</td>\n",
       "      <td>24160</td>\n",
       "      <td>211.3375</td>\n",
       "      <td>B5</td>\n",
       "      <td>S</td>\n",
       "      <td>True</td>\n",
       "    </tr>\n",
       "    <tr>\n",
       "      <th>84</th>\n",
       "      <td>85</td>\n",
       "      <td>2</td>\n",
       "      <td>Ilett, Miss. Bertha</td>\n",
       "      <td>female</td>\n",
       "      <td>17.0</td>\n",
       "      <td>0</td>\n",
       "      <td>0</td>\n",
       "      <td>SO/C 14885</td>\n",
       "      <td>10.5000</td>\n",
       "      <td>NaN</td>\n",
       "      <td>S</td>\n",
       "      <td>True</td>\n",
       "    </tr>\n",
       "    <tr>\n",
       "      <th>497</th>\n",
       "      <td>498</td>\n",
       "      <td>3</td>\n",
       "      <td>Shellard, Mr. Frederick William</td>\n",
       "      <td>male</td>\n",
       "      <td>NaN</td>\n",
       "      <td>0</td>\n",
       "      <td>0</td>\n",
       "      <td>C.A. 6212</td>\n",
       "      <td>15.1000</td>\n",
       "      <td>NaN</td>\n",
       "      <td>S</td>\n",
       "      <td>False</td>\n",
       "    </tr>\n",
       "    <tr>\n",
       "      <th>878</th>\n",
       "      <td>879</td>\n",
       "      <td>3</td>\n",
       "      <td>Laleff, Mr. Kristo</td>\n",
       "      <td>male</td>\n",
       "      <td>NaN</td>\n",
       "      <td>0</td>\n",
       "      <td>0</td>\n",
       "      <td>349217</td>\n",
       "      <td>7.8958</td>\n",
       "      <td>NaN</td>\n",
       "      <td>S</td>\n",
       "      <td>False</td>\n",
       "    </tr>\n",
       "    <tr>\n",
       "      <th>...</th>\n",
       "      <td>...</td>\n",
       "      <td>...</td>\n",
       "      <td>...</td>\n",
       "      <td>...</td>\n",
       "      <td>...</td>\n",
       "      <td>...</td>\n",
       "      <td>...</td>\n",
       "      <td>...</td>\n",
       "      <td>...</td>\n",
       "      <td>...</td>\n",
       "      <td>...</td>\n",
       "      <td>...</td>\n",
       "    </tr>\n",
       "    <tr>\n",
       "      <th>101</th>\n",
       "      <td>102</td>\n",
       "      <td>3</td>\n",
       "      <td>Petroff, Mr. Pastcho (\"Pentcho\")</td>\n",
       "      <td>male</td>\n",
       "      <td>NaN</td>\n",
       "      <td>0</td>\n",
       "      <td>0</td>\n",
       "      <td>349215</td>\n",
       "      <td>7.8958</td>\n",
       "      <td>NaN</td>\n",
       "      <td>S</td>\n",
       "      <td>False</td>\n",
       "    </tr>\n",
       "    <tr>\n",
       "      <th>543</th>\n",
       "      <td>544</td>\n",
       "      <td>2</td>\n",
       "      <td>Beane, Mr. Edward</td>\n",
       "      <td>male</td>\n",
       "      <td>32.0</td>\n",
       "      <td>1</td>\n",
       "      <td>0</td>\n",
       "      <td>2908</td>\n",
       "      <td>26.0000</td>\n",
       "      <td>NaN</td>\n",
       "      <td>S</td>\n",
       "      <td>False</td>\n",
       "    </tr>\n",
       "    <tr>\n",
       "      <th>642</th>\n",
       "      <td>643</td>\n",
       "      <td>3</td>\n",
       "      <td>Skoog, Miss. Margit Elizabeth</td>\n",
       "      <td>female</td>\n",
       "      <td>2.0</td>\n",
       "      <td>3</td>\n",
       "      <td>2</td>\n",
       "      <td>347088</td>\n",
       "      <td>27.9000</td>\n",
       "      <td>NaN</td>\n",
       "      <td>S</td>\n",
       "      <td>True</td>\n",
       "    </tr>\n",
       "    <tr>\n",
       "      <th>573</th>\n",
       "      <td>574</td>\n",
       "      <td>3</td>\n",
       "      <td>Kelly, Miss. Mary</td>\n",
       "      <td>female</td>\n",
       "      <td>NaN</td>\n",
       "      <td>0</td>\n",
       "      <td>0</td>\n",
       "      <td>14312</td>\n",
       "      <td>7.7500</td>\n",
       "      <td>NaN</td>\n",
       "      <td>Q</td>\n",
       "      <td>True</td>\n",
       "    </tr>\n",
       "    <tr>\n",
       "      <th>812</th>\n",
       "      <td>813</td>\n",
       "      <td>2</td>\n",
       "      <td>Slemen, Mr. Richard James</td>\n",
       "      <td>male</td>\n",
       "      <td>35.0</td>\n",
       "      <td>0</td>\n",
       "      <td>0</td>\n",
       "      <td>28206</td>\n",
       "      <td>10.5000</td>\n",
       "      <td>NaN</td>\n",
       "      <td>S</td>\n",
       "      <td>False</td>\n",
       "    </tr>\n",
       "  </tbody>\n",
       "</table>\n",
       "<p>223 rows × 12 columns</p>\n",
       "</div>"
      ],
      "text/plain": [
       "     PassengerId  Pclass                                    Name     Sex  \\\n",
       "533          534       3  Peter, Mrs. Catherine (Catherine Rizk)  female   \n",
       "730          731       1           Allen, Miss. Elisabeth Walton  female   \n",
       "84            85       2                     Ilett, Miss. Bertha  female   \n",
       "497          498       3         Shellard, Mr. Frederick William    male   \n",
       "878          879       3                      Laleff, Mr. Kristo    male   \n",
       "..           ...     ...                                     ...     ...   \n",
       "101          102       3        Petroff, Mr. Pastcho (\"Pentcho\")    male   \n",
       "543          544       2                       Beane, Mr. Edward    male   \n",
       "642          643       3           Skoog, Miss. Margit Elizabeth  female   \n",
       "573          574       3                       Kelly, Miss. Mary  female   \n",
       "812          813       2               Slemen, Mr. Richard James    male   \n",
       "\n",
       "      Age  SibSp  Parch      Ticket      Fare Cabin Embarked  \\\n",
       "533   NaN      0      2        2668   22.3583   NaN        C   \n",
       "730  29.0      0      0       24160  211.3375    B5        S   \n",
       "84   17.0      0      0  SO/C 14885   10.5000   NaN        S   \n",
       "497   NaN      0      0   C.A. 6212   15.1000   NaN        S   \n",
       "878   NaN      0      0      349217    7.8958   NaN        S   \n",
       "..    ...    ...    ...         ...       ...   ...      ...   \n",
       "101   NaN      0      0      349215    7.8958   NaN        S   \n",
       "543  32.0      1      0        2908   26.0000   NaN        S   \n",
       "642   2.0      3      2      347088   27.9000   NaN        S   \n",
       "573   NaN      0      0       14312    7.7500   NaN        Q   \n",
       "812  35.0      0      0       28206   10.5000   NaN        S   \n",
       "\n",
       "     is_women_or_child  \n",
       "533               True  \n",
       "730               True  \n",
       "84                True  \n",
       "497              False  \n",
       "878              False  \n",
       "..                 ...  \n",
       "101              False  \n",
       "543              False  \n",
       "642               True  \n",
       "573               True  \n",
       "812              False  \n",
       "\n",
       "[223 rows x 12 columns]"
      ]
     },
     "execution_count": 2,
     "metadata": {},
     "output_type": "execute_result"
    }
   ],
   "source": [
    "from sklearn.model_selection import train_test_split\n",
    "X = pd.read_csv('/kaggle/input/titanic/train.csv')\n",
    "X_final = pd.read_csv('/kaggle/input/titanic/test.csv')\n",
    "y = X.Survived\n",
    "# X_final = X_final.loc[:,X_final.columns.drop(['SibSp','Parch','Embarked'])]\n",
    "# X = X.loc[:,X.columns.drop(['Survived','SibSp','Parch','Embarked'])]\n",
    "# X_final = X_final.loc[:,X_final.columns.drop(['Parch','Embarked'])]\n",
    "# X = X.loc[:,X.columns.drop(['Name','Survived','Parch','Embarked','SibSp','Cabin'])]\n",
    "# X_final = X_final.loc[:,X_final.columns.drop(['Name','Parch','Embarked','SibSp','Cabin'])]\n",
    "# X_final =X_final.loc[:,X_final.columns.drop(['Cabin'])]\n",
    "X = X.loc[:,X.columns.drop(['Survived'])]\n",
    "X_train, X_test, y_train, y_test = train_test_split(X,y)\n",
    "ids = X_final.PassengerId\n",
    "X_train\n",
    "\n",
    "def adder(dataset):\n",
    "    Is_women_or_child = [x == 'female' or y < 18 for x,y in zip(dataset.Sex,dataset.Age)]\n",
    "    dataset['is_women_or_child'] = Is_women_or_child\n",
    "adder(X_train)\n",
    "adder(X_test)\n",
    "adder(X_final)\n",
    "X_test"
   ]
  },
  {
   "cell_type": "code",
   "execution_count": 3,
   "id": "193cbc64",
   "metadata": {
    "execution": {
     "iopub.execute_input": "2022-09-13T00:31:43.423257Z",
     "iopub.status.busy": "2022-09-13T00:31:43.422831Z",
     "iopub.status.idle": "2022-09-13T00:31:43.430798Z",
     "shell.execute_reply": "2022-09-13T00:31:43.429451Z"
    },
    "papermill": {
     "duration": 0.015974,
     "end_time": "2022-09-13T00:31:43.433507",
     "exception": false,
     "start_time": "2022-09-13T00:31:43.417533",
     "status": "completed"
    },
    "tags": []
   },
   "outputs": [
    {
     "name": "stdout",
     "output_type": "stream",
     "text": [
      "Categorical variables:\n",
      "['Name', 'Sex', 'Ticket', 'Cabin', 'Embarked']\n"
     ]
    }
   ],
   "source": [
    "s = (X.dtypes == 'object')\n",
    "object_cols = list(s[s].index)\n",
    "\n",
    "print(\"Categorical variables:\")\n",
    "print(object_cols)\n",
    "# from sklearn.preprocessing import OrdinalEncoder\n",
    "\n",
    "# ordinal_encoder = OrdinalEncoder()\n",
    "# X_train[object_cols] = ordinal_encoder.fit_transform(X_train[object_cols])\n",
    "# X_test[object_cols] = ordinal_encoder.fit_transform(X_test[object_cols])\n",
    "# X_final[object_cols] = ordinal_encoder.fit_transform(X_final[object_cols])"
   ]
  },
  {
   "cell_type": "code",
   "execution_count": 4,
   "id": "24e45d3e",
   "metadata": {
    "execution": {
     "iopub.execute_input": "2022-09-13T00:31:43.443496Z",
     "iopub.status.busy": "2022-09-13T00:31:43.443063Z",
     "iopub.status.idle": "2022-09-13T00:31:43.512960Z",
     "shell.execute_reply": "2022-09-13T00:31:43.511785Z"
    },
    "papermill": {
     "duration": 0.078231,
     "end_time": "2022-09-13T00:31:43.515837",
     "exception": false,
     "start_time": "2022-09-13T00:31:43.437606",
     "status": "completed"
    },
    "tags": []
   },
   "outputs": [],
   "source": [
    "from sklearn.preprocessing import OneHotEncoder\n",
    "OH_encoder = OneHotEncoder(handle_unknown='ignore', sparse=False)\n",
    "OH_cols_train = pd.DataFrame(OH_encoder.fit_transform(X_train[object_cols]))\n",
    "OH_cols_test = pd.DataFrame(OH_encoder.transform(X_test[object_cols]))\n",
    "OH_cols_final = pd.DataFrame(OH_encoder.transform(X_final[object_cols]))\n",
    "\n",
    "OH_cols_train.index = X_train.index\n",
    "OH_cols_test.index = X_test.index\n",
    "OH_cols_final.index = X_final.index\n",
    "\n",
    "num_X_train = X_train.drop(object_cols, axis=1)\n",
    "num_X_test = X_test.drop(object_cols, axis=1)\n",
    "num_X_final = X_final.drop(object_cols,axis=1)\n",
    "\n",
    "OH_X_train = pd.concat([num_X_train, OH_cols_train], axis=1)\n",
    "OH_X_test = pd.concat([num_X_test, OH_cols_test], axis=1)\n",
    "OH_X_final = pd.concat([num_X_final, OH_cols_final], axis=1)\n",
    "\n",
    "\n"
   ]
  },
  {
   "cell_type": "code",
   "execution_count": 5,
   "id": "d430404e",
   "metadata": {
    "execution": {
     "iopub.execute_input": "2022-09-13T00:31:43.525331Z",
     "iopub.status.busy": "2022-09-13T00:31:43.524954Z",
     "iopub.status.idle": "2022-09-13T00:31:44.168917Z",
     "shell.execute_reply": "2022-09-13T00:31:44.167421Z"
    },
    "papermill": {
     "duration": 0.651795,
     "end_time": "2022-09-13T00:31:44.171631",
     "exception": false,
     "start_time": "2022-09-13T00:31:43.519836",
     "status": "completed"
    },
    "tags": []
   },
   "outputs": [
    {
     "name": "stderr",
     "output_type": "stream",
     "text": [
      "/opt/conda/lib/python3.7/site-packages/sklearn/utils/validation.py:1692: FutureWarning: Feature names only support names that are all strings. Got feature names with dtypes: ['int', 'str']. An error will be raised in 1.2.\n",
      "  FutureWarning,\n",
      "/opt/conda/lib/python3.7/site-packages/sklearn/utils/validation.py:1692: FutureWarning: Feature names only support names that are all strings. Got feature names with dtypes: ['int', 'str']. An error will be raised in 1.2.\n",
      "  FutureWarning,\n",
      "/opt/conda/lib/python3.7/site-packages/sklearn/utils/validation.py:1692: FutureWarning: Feature names only support names that are all strings. Got feature names with dtypes: ['int', 'str']. An error will be raised in 1.2.\n",
      "  FutureWarning,\n",
      "/opt/conda/lib/python3.7/site-packages/sklearn/utils/validation.py:1692: FutureWarning: Feature names only support names that are all strings. Got feature names with dtypes: ['int', 'str']. An error will be raised in 1.2.\n",
      "  FutureWarning,\n"
     ]
    }
   ],
   "source": [
    "from sklearn.impute import SimpleImputer \n",
    "\n",
    "my_imputer = SimpleImputer()\n",
    "imputed_X_train = pd.DataFrame(my_imputer.fit_transform(OH_X_train))\n",
    "imputed_X_test = pd.DataFrame(my_imputer.transform(OH_X_test))\n",
    "imputed_X_final = pd.DataFrame(my_imputer.transform(OH_X_final))"
   ]
  },
  {
   "cell_type": "code",
   "execution_count": 6,
   "id": "41c670a1",
   "metadata": {
    "execution": {
     "iopub.execute_input": "2022-09-13T00:31:44.181602Z",
     "iopub.status.busy": "2022-09-13T00:31:44.181174Z",
     "iopub.status.idle": "2022-09-13T00:31:44.426538Z",
     "shell.execute_reply": "2022-09-13T00:31:44.425002Z"
    },
    "papermill": {
     "duration": 0.253499,
     "end_time": "2022-09-13T00:31:44.429293",
     "exception": false,
     "start_time": "2022-09-13T00:31:44.175794",
     "status": "completed"
    },
    "tags": []
   },
   "outputs": [],
   "source": [
    "from xgboost import XGBRegressor\n",
    "from sklearn.ensemble import RandomForestRegressor\n",
    "from sklearn.metrics import mean_squared_error \n",
    "from sklearn.tree import DecisionTreeRegressor"
   ]
  },
  {
   "cell_type": "code",
   "execution_count": 7,
   "id": "4dd9ed7b",
   "metadata": {
    "execution": {
     "iopub.execute_input": "2022-09-13T00:31:44.440197Z",
     "iopub.status.busy": "2022-09-13T00:31:44.439775Z",
     "iopub.status.idle": "2022-09-13T00:31:46.008659Z",
     "shell.execute_reply": "2022-09-13T00:31:46.007142Z"
    },
    "papermill": {
     "duration": 1.577829,
     "end_time": "2022-09-13T00:31:46.011522",
     "exception": false,
     "start_time": "2022-09-13T00:31:44.433693",
     "status": "completed"
    },
    "tags": []
   },
   "outputs": [
    {
     "name": "stdout",
     "output_type": "stream",
     "text": [
      "0.12406524433989112\n"
     ]
    }
   ],
   "source": [
    "model = RandomForestRegressor(n_estimators = 75, random_state =27,max_leaf_nodes =30)\n",
    "model.fit(imputed_X_train,y_train)\n",
    "predictorForest = model.predict(imputed_X_test)\n",
    "print(mean_squared_error(y_test,predictorForest))\n",
    "comparer = (mean_squared_error(y_test,predictorForest))\n",
    "\n"
   ]
  },
  {
   "cell_type": "code",
   "execution_count": 8,
   "id": "cbf358fe",
   "metadata": {
    "execution": {
     "iopub.execute_input": "2022-09-13T00:31:46.022325Z",
     "iopub.status.busy": "2022-09-13T00:31:46.021911Z",
     "iopub.status.idle": "2022-09-13T00:31:46.331450Z",
     "shell.execute_reply": "2022-09-13T00:31:46.330472Z"
    },
    "papermill": {
     "duration": 0.318456,
     "end_time": "2022-09-13T00:31:46.334419",
     "exception": false,
     "start_time": "2022-09-13T00:31:46.015963",
     "status": "completed"
    },
    "tags": []
   },
   "outputs": [
    {
     "name": "stdout",
     "output_type": "stream",
     "text": [
      "0.12657229401207787\n"
     ]
    }
   ],
   "source": [
    "\n",
    "XGBModel = XGBRegressor(n_estimators = 4, learning_rate = 0.5 + 1*0.01,max_leaves = 2, early_stopping_rounds = 2, max_depth = 5)\n",
    "XGBModel.fit(imputed_X_train,y_train,\n",
    "         eval_set = [(imputed_X_test,y_test)],\n",
    "         verbose = False)\n",
    "\n",
    "XGBPredictor = XGBModel.predict(imputed_X_test)\n",
    "print(mean_squared_error(y_test,XGBPredictor))\n",
    "\n"
   ]
  },
  {
   "cell_type": "code",
   "execution_count": 9,
   "id": "c7ce0feb",
   "metadata": {
    "execution": {
     "iopub.execute_input": "2022-09-13T00:31:46.345916Z",
     "iopub.status.busy": "2022-09-13T00:31:46.345527Z",
     "iopub.status.idle": "2022-09-13T00:31:46.409106Z",
     "shell.execute_reply": "2022-09-13T00:31:46.408099Z"
    },
    "papermill": {
     "duration": 0.072459,
     "end_time": "2022-09-13T00:31:46.411995",
     "exception": false,
     "start_time": "2022-09-13T00:31:46.339536",
     "status": "completed"
    },
    "tags": []
   },
   "outputs": [],
   "source": [
    "\n",
    "finPred_RandomForest = model.predict(imputed_X_final)\n",
    "finPred_XGB = XGBModel.predict(imputed_X_final)\n",
    "# print(finPred_RandomForest)\n",
    "# print(finPred_XGB)\n",
    "submissionList = [int(x > 0.75) for x in finPred_RandomForest]\n"
   ]
  },
  {
   "cell_type": "code",
   "execution_count": 10,
   "id": "6dfa45ae",
   "metadata": {
    "execution": {
     "iopub.execute_input": "2022-09-13T00:31:46.424573Z",
     "iopub.status.busy": "2022-09-13T00:31:46.424126Z",
     "iopub.status.idle": "2022-09-13T00:31:46.437299Z",
     "shell.execute_reply": "2022-09-13T00:31:46.436311Z"
    },
    "papermill": {
     "duration": 0.022435,
     "end_time": "2022-09-13T00:31:46.439874",
     "exception": false,
     "start_time": "2022-09-13T00:31:46.417439",
     "status": "completed"
    },
    "tags": []
   },
   "outputs": [],
   "source": [
    "submitter = pd.DataFrame().assign(PassengerId = ids, Survived = submissionList)\n",
    "submitter = submitter.iloc[: ,0:]\n",
    "submitter.to_csv(\"submission.csv\",index = False)"
   ]
  }
 ],
 "metadata": {
  "kernelspec": {
   "display_name": "Python 3.9.0 64-bit",
   "language": "python",
   "name": "python3"
  },
  "language_info": {
   "codemirror_mode": {
    "name": "ipython",
    "version": 3
   },
   "file_extension": ".py",
   "mimetype": "text/x-python",
   "name": "python",
   "nbconvert_exporter": "python",
   "pygments_lexer": "ipython3",
   "version": "3.9.0"
  },
  "papermill": {
   "default_parameters": {},
   "duration": 15.541066,
   "end_time": "2022-09-13T00:31:47.272137",
   "environment_variables": {},
   "exception": null,
   "input_path": "__notebook__.ipynb",
   "output_path": "__notebook__.ipynb",
   "parameters": {},
   "start_time": "2022-09-13T00:31:31.731071",
   "version": "2.3.4"
  },
  "vscode": {
   "interpreter": {
    "hash": "371f0d8b76de229da8650f374ceb97c81a343a7fe35b6fe9a060b6d9abbc1abd"
   }
  }
 },
 "nbformat": 4,
 "nbformat_minor": 5
}
