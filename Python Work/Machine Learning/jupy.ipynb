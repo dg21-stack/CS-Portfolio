{
 "cells": [
  {
   "cell_type": "markdown",
   "metadata": {},
   "source": [
    "import necessary libraries and functions "
   ]
  },
  {
   "cell_type": "code",
   "execution_count": 1,
   "metadata": {},
   "outputs": [],
   "source": [
    "import tensorflow as tf\n",
    "from tensorflow import keras\n",
    "import numpy as np\n",
    "import matplotlib.pyplot as plt"
   ]
  },
  {
   "cell_type": "markdown",
   "metadata": {},
   "source": [
    "load dataset to be used "
   ]
  },
  {
   "cell_type": "code",
   "execution_count": 2,
   "metadata": {},
   "outputs": [],
   "source": [
    "digits = tf.keras.datasets.mnist.load_data(path=\"mnist.npz\")\n"
   ]
  },
  {
   "cell_type": "markdown",
   "metadata": {},
   "source": [
    "divide training data and testing data"
   ]
  },
  {
   "cell_type": "code",
   "execution_count": 3,
   "metadata": {},
   "outputs": [],
   "source": [
    "(train_images,y_train),(test_images,y_test) = digits"
   ]
  },
  {
   "cell_type": "markdown",
   "metadata": {},
   "source": [
    "example of what data looks like translated from numpy array to plot"
   ]
  },
  {
   "cell_type": "code",
   "execution_count": 4,
   "metadata": {},
   "outputs": [
    {
     "data": {
      "image/png": "[encoded data removed]",
      "text/plain": [
       "<Figure size 640x480 with 2 Axes>"
      ]
     },
     "metadata": {},
     "output_type": "display_data"
    }
   ],
   "source": [
    "plt.figure()\n",
    "plt.imshow(train_images[0])\n",
    "plt.colorbar()\n",
    "plt.grid(False)\n",
    "plt.show()"
   ]
  },
  {
   "cell_type": "markdown",
   "metadata": {},
   "source": [
    "shape of training set"
   ]
  },
  {
   "cell_type": "code",
   "execution_count": 5,
   "metadata": {},
   "outputs": [
    {
     "data": {
      "text/plain": [
       "(60000, 28, 28)"
      ]
     },
     "execution_count": 5,
     "metadata": {},
     "output_type": "execute_result"
    }
   ],
   "source": [
    "train_images.shape"
   ]
  },
  {
   "cell_type": "markdown",
   "metadata": {},
   "source": [
    "shape of test set"
   ]
  },
  {
   "cell_type": "code",
   "execution_count": 6,
   "metadata": {},
   "outputs": [
    {
     "data": {
      "text/plain": [
       "(10000, 28, 28)"
      ]
     },
     "execution_count": 6,
     "metadata": {},
     "output_type": "execute_result"
    }
   ],
   "source": [
    "test_images.shape"
   ]
  },
  {
   "cell_type": "markdown",
   "metadata": {},
   "source": [
    "model creation"
   ]
  },
  {
   "cell_type": "code",
   "execution_count": 97,
   "metadata": {},
   "outputs": [],
   "source": [
    "model = keras.Sequential([\n",
    "    keras.layers.Flatten(input_shape = (28,28)),\n",
    "    keras.layers.Dense(256,activation = 'relu'),\n",
    "    keras.layers.BatchNormalization(),\n",
    "    keras.layers.Dense(10, activation = \"softmax\")\n",
    "])"
   ]
  },
  {
   "cell_type": "markdown",
   "metadata": {},
   "source": [
    "model compile"
   ]
  },
  {
   "cell_type": "code",
   "execution_count": 98,
   "metadata": {},
   "outputs": [],
   "source": [
    "model.compile(\n",
    "    optimizer = \"adam\",\n",
    "    loss = \"sparse_categorical_crossentropy\",\n",
    "    metrics = [\"accuracy\"]\n",
    ")"
   ]
  },
  {
   "cell_type": "markdown",
   "metadata": {},
   "source": [
    "model fit"
   ]
  },
  {
   "cell_type": "code",
   "execution_count": 103,
   "metadata": {},
   "outputs": [
    {
     "name": "stdout",
     "output_type": "stream",
     "text": [
      "Epoch 1/50\n",
      "1200/1200 [==============================] - 14s 11ms/step - loss: 0.0640 - accuracy: 0.9807 - val_loss: 0.1105 - val_accuracy: 0.9761\n",
      "Epoch 2/50\n",
      "1200/1200 [==============================] - 14s 12ms/step - loss: 0.0537 - accuracy: 0.9832 - val_loss: 0.1046 - val_accuracy: 0.9757\n",
      "Epoch 3/50\n",
      "1200/1200 [==============================] - 14s 12ms/step - loss: 0.0437 - accuracy: 0.9865 - val_loss: 0.1008 - val_accuracy: 0.9745\n",
      "Epoch 4/50\n",
      "1200/1200 [==============================] - 14s 12ms/step - loss: 0.0369 - accuracy: 0.9880 - val_loss: 0.0957 - val_accuracy: 0.9763\n",
      "Epoch 5/50\n",
      "1200/1200 [==============================] - 14s 12ms/step - loss: 0.0308 - accuracy: 0.9900 - val_loss: 0.0879 - val_accuracy: 0.9787\n",
      "Epoch 6/50\n",
      "1200/1200 [==============================] - 14s 12ms/step - loss: 0.0273 - accuracy: 0.9911 - val_loss: 0.1123 - val_accuracy: 0.9762\n",
      "Epoch 7/50\n",
      "1200/1200 [==============================] - 14s 12ms/step - loss: 0.0264 - accuracy: 0.9916 - val_loss: 0.0862 - val_accuracy: 0.9799\n",
      "Epoch 8/50\n",
      "1200/1200 [==============================] - 14s 12ms/step - loss: 0.0210 - accuracy: 0.9932 - val_loss: 0.1615 - val_accuracy: 0.9792\n",
      "Epoch 9/50\n",
      "1200/1200 [==============================] - 14s 12ms/step - loss: 0.0178 - accuracy: 0.9941 - val_loss: 0.1650 - val_accuracy: 0.9785\n",
      "Epoch 10/50\n",
      "1200/1200 [==============================] - 14s 12ms/step - loss: 0.0165 - accuracy: 0.9945 - val_loss: 0.1539 - val_accuracy: 0.9769\n",
      "Epoch 11/50\n",
      "1200/1200 [==============================] - 14s 12ms/step - loss: 0.0145 - accuracy: 0.9955 - val_loss: 0.1707 - val_accuracy: 0.9761\n",
      "Epoch 12/50\n",
      "1200/1200 [==============================] - 14s 12ms/step - loss: 0.0182 - accuracy: 0.9938 - val_loss: 0.1649 - val_accuracy: 0.9786\n",
      "Epoch 13/50\n",
      "1200/1200 [==============================] - 14s 12ms/step - loss: 0.0124 - accuracy: 0.9962 - val_loss: 0.1411 - val_accuracy: 0.9782\n",
      "Epoch 14/50\n",
      "1200/1200 [==============================] - 15s 12ms/step - loss: 0.0135 - accuracy: 0.9957 - val_loss: 0.1360 - val_accuracy: 0.9794\n",
      "Epoch 15/50\n",
      "1200/1200 [==============================] - 14s 12ms/step - loss: 0.0112 - accuracy: 0.9966 - val_loss: 0.1229 - val_accuracy: 0.9802\n",
      "Epoch 16/50\n",
      "1200/1200 [==============================] - 14s 12ms/step - loss: 0.0113 - accuracy: 0.9962 - val_loss: 0.1136 - val_accuracy: 0.9798\n",
      "Epoch 17/50\n",
      "1200/1200 [==============================] - 14s 12ms/step - loss: 0.0110 - accuracy: 0.9962 - val_loss: 0.1172 - val_accuracy: 0.9766\n",
      "Epoch 18/50\n",
      "1200/1200 [==============================] - 14s 12ms/step - loss: 0.0111 - accuracy: 0.9962 - val_loss: 0.0937 - val_accuracy: 0.9814\n",
      "Epoch 19/50\n",
      "1200/1200 [==============================] - 14s 12ms/step - loss: 0.0083 - accuracy: 0.9972 - val_loss: 0.1035 - val_accuracy: 0.9775\n",
      "Epoch 20/50\n",
      "1200/1200 [==============================] - 14s 12ms/step - loss: 0.0106 - accuracy: 0.9965 - val_loss: 0.0781 - val_accuracy: 0.9821\n",
      "Epoch 21/50\n",
      "1200/1200 [==============================] - 14s 12ms/step - loss: 0.0091 - accuracy: 0.9969 - val_loss: 0.0823 - val_accuracy: 0.9790\n",
      "Epoch 22/50\n",
      "1200/1200 [==============================] - 14s 12ms/step - loss: 0.0096 - accuracy: 0.9966 - val_loss: 0.1221 - val_accuracy: 0.9791\n",
      "Epoch 23/50\n",
      "1200/1200 [==============================] - 14s 12ms/step - loss: 0.0088 - accuracy: 0.9970 - val_loss: 0.1073 - val_accuracy: 0.9797\n",
      "Epoch 24/50\n",
      "1200/1200 [==============================] - 14s 12ms/step - loss: 0.0075 - accuracy: 0.9975 - val_loss: 0.0987 - val_accuracy: 0.9798\n",
      "Epoch 25/50\n",
      "1200/1200 [==============================] - 14s 12ms/step - loss: 0.0087 - accuracy: 0.9969 - val_loss: 0.1044 - val_accuracy: 0.9794\n",
      "Epoch 26/50\n",
      "1200/1200 [==============================] - 14s 12ms/step - loss: 0.0063 - accuracy: 0.9979 - val_loss: 0.1312 - val_accuracy: 0.9810\n",
      "Epoch 27/50\n",
      "1200/1200 [==============================] - 14s 12ms/step - loss: 0.0089 - accuracy: 0.9969 - val_loss: 0.1162 - val_accuracy: 0.9795\n",
      "Epoch 28/50\n",
      "1200/1200 [==============================] - 14s 12ms/step - loss: 0.0072 - accuracy: 0.9973 - val_loss: 0.1056 - val_accuracy: 0.9798\n",
      "Epoch 29/50\n",
      "1200/1200 [==============================] - 14s 12ms/step - loss: 0.0068 - accuracy: 0.9977 - val_loss: 0.1064 - val_accuracy: 0.9790\n",
      "Epoch 30/50\n",
      "1200/1200 [==============================] - 14s 12ms/step - loss: 0.0068 - accuracy: 0.9977 - val_loss: 0.0986 - val_accuracy: 0.9808\n",
      "Epoch 31/50\n",
      "1200/1200 [==============================] - 14s 12ms/step - loss: 0.0070 - accuracy: 0.9976 - val_loss: 0.1068 - val_accuracy: 0.9803\n",
      "Epoch 32/50\n",
      "1200/1200 [==============================] - 14s 12ms/step - loss: 0.0047 - accuracy: 0.9985 - val_loss: 0.1180 - val_accuracy: 0.9795\n",
      "Epoch 33/50\n",
      "1200/1200 [==============================] - 14s 12ms/step - loss: 0.0060 - accuracy: 0.9981 - val_loss: 0.1135 - val_accuracy: 0.9812\n",
      "Epoch 34/50\n",
      "1200/1200 [==============================] - 14s 12ms/step - loss: 0.0066 - accuracy: 0.9977 - val_loss: 0.1158 - val_accuracy: 0.9803\n",
      "Epoch 35/50\n",
      "1200/1200 [==============================] - 14s 12ms/step - loss: 0.0050 - accuracy: 0.9983 - val_loss: 0.1223 - val_accuracy: 0.9801\n",
      "Epoch 36/50\n",
      "1200/1200 [==============================] - 14s 11ms/step - loss: 0.0076 - accuracy: 0.9972 - val_loss: 0.1093 - val_accuracy: 0.9792\n",
      "Epoch 37/50\n",
      "1200/1200 [==============================] - 14s 12ms/step - loss: 0.0045 - accuracy: 0.9983 - val_loss: 0.0957 - val_accuracy: 0.9805\n",
      "Epoch 38/50\n",
      "1200/1200 [==============================] - 14s 12ms/step - loss: 0.0060 - accuracy: 0.9979 - val_loss: 0.1212 - val_accuracy: 0.9816\n",
      "Epoch 39/50\n",
      "1200/1200 [==============================] - 14s 12ms/step - loss: 0.0046 - accuracy: 0.9985 - val_loss: 0.1134 - val_accuracy: 0.9788\n",
      "Epoch 40/50\n",
      "1200/1200 [==============================] - 14s 12ms/step - loss: 0.0065 - accuracy: 0.9978 - val_loss: 0.1238 - val_accuracy: 0.9789\n",
      "Epoch 41/50\n",
      "1200/1200 [==============================] - 16s 13ms/step - loss: 0.0052 - accuracy: 0.9982 - val_loss: 0.1264 - val_accuracy: 0.9800\n",
      "Epoch 42/50\n",
      "1200/1200 [==============================] - 6s 5ms/step - loss: 0.0034 - accuracy: 0.9989 - val_loss: 0.1242 - val_accuracy: 0.9816\n",
      "Epoch 43/50\n",
      "1200/1200 [==============================] - 8s 7ms/step - loss: 0.0045 - accuracy: 0.9986 - val_loss: 0.1202 - val_accuracy: 0.9821\n",
      "Epoch 44/50\n",
      "1200/1200 [==============================] - 9s 7ms/step - loss: 0.0050 - accuracy: 0.9984 - val_loss: 0.1114 - val_accuracy: 0.9804\n",
      "Epoch 45/50\n",
      "1200/1200 [==============================] - 9s 7ms/step - loss: 0.0055 - accuracy: 0.9980 - val_loss: 0.1081 - val_accuracy: 0.9813\n",
      "Epoch 46/50\n",
      "1200/1200 [==============================] - 9s 7ms/step - loss: 0.0057 - accuracy: 0.9982 - val_loss: 0.1092 - val_accuracy: 0.9821\n",
      "Epoch 47/50\n",
      "1200/1200 [==============================] - 9s 7ms/step - loss: 0.0046 - accuracy: 0.9984 - val_loss: 0.1207 - val_accuracy: 0.9805\n",
      "Epoch 48/50\n",
      "1200/1200 [==============================] - 9s 7ms/step - loss: 0.0053 - accuracy: 0.9983 - val_loss: 0.1075 - val_accuracy: 0.9808\n",
      "Epoch 49/50\n",
      "1200/1200 [==============================] - 9s 7ms/step - loss: 0.0042 - accuracy: 0.9985 - val_loss: 0.0980 - val_accuracy: 0.9824\n",
      "Epoch 50/50\n",
      "1200/1200 [==============================] - 9s 7ms/step - loss: 0.0045 - accuracy: 0.9987 - val_loss: 0.1033 - val_accuracy: 0.9807\n"
     ]
    },
    {
     "data": {
      "text/plain": [
       "<keras.callbacks.History at 0x226629833a0>"
      ]
     },
     "execution_count": 103,
     "metadata": {},
     "output_type": "execute_result"
    }
   ],
   "source": [
    "model.fit(train_images,y_train, \n",
    "epochs = 50,\n",
    "batch_size= 50,\n",
    "validation_data = (test_images,y_test),\n",
    ")"
   ]
  },
  {
   "cell_type": "markdown",
   "metadata": {},
   "source": [
    "model evaluation"
   ]
  },
  {
   "cell_type": "code",
   "execution_count": 106,
   "metadata": {},
   "outputs": [
    {
     "name": "stdout",
     "output_type": "stream",
     "text": [
      "313/313 [==============================] - 1s 4ms/step - loss: 0.1033 - accuracy: 0.9807\n"
     ]
    }
   ],
   "source": [
    "test_loss, test_acc = model.evaluate(test_images,y_test)"
   ]
  },
  {
   "cell_type": "markdown",
   "metadata": {},
   "source": [
    "test image predictions"
   ]
  },
  {
   "cell_type": "code",
   "execution_count": 107,
   "metadata": {},
   "outputs": [
    {
     "name": "stdout",
     "output_type": "stream",
     "text": [
      "313/313 [==============================] - 1s 3ms/step\n"
     ]
    }
   ],
   "source": [
    "predict = model.predict(test_images)"
   ]
  },
  {
   "cell_type": "markdown",
   "metadata": {},
   "source": [
    "sample prediction data"
   ]
  },
  {
   "cell_type": "code",
   "execution_count": 108,
   "metadata": {},
   "outputs": [
    {
     "data": {
      "text/plain": [
       "2"
      ]
     },
     "execution_count": 108,
     "metadata": {},
     "output_type": "execute_result"
    }
   ],
   "source": [
    "predict[0]\n",
    "\n",
    "np.argmax(predict[0])\n",
    "np.argmax(predict[1])\n"
   ]
  },
  {
   "cell_type": "code",
   "execution_count": 109,
   "metadata": {},
   "outputs": [],
   "source": [
    "class_names = [0,1,2,3,4,5,6,7,8,9]"
   ]
  },
  {
   "cell_type": "markdown",
   "metadata": {},
   "source": [
    "function to graph predicted data as an image"
   ]
  },
  {
   "cell_type": "code",
   "execution_count": 110,
   "metadata": {},
   "outputs": [],
   "source": [
    "def plot_image(i, predictions_array, true_label, img):\n",
    "    predictions_array, true_label, img = predictions_array[i], true_label[i], img[i]\n",
    "    plt.grid(False)\n",
    "    plt.xticks([])\n",
    "    plt.yticks([])\n",
    "    plt.imshow(img,cmap = plt.cm.binary)\n",
    "    predicted_label = np.argmax(predictions_array)\n",
    "    if predicted_label == true_label:\n",
    "        color = \"blue\"\n",
    "    else:\n",
    "        color = 'red'\n",
    "    plt.xlabel(\"{} {:2.0f}% ({})\".format(class_names[predicted_label],100*np.max(predictions_array),class_names[true_label], color=color))"
   ]
  },
  {
   "cell_type": "markdown",
   "metadata": {},
   "source": [
    "sample plot"
   ]
  },
  {
   "cell_type": "code",
   "execution_count": 111,
   "metadata": {},
   "outputs": [
    {
     "data": {
      "image/png": "[encoded data removed]",
      "text/plain": [
       "<Figure size 600x300 with 1 Axes>"
      ]
     },
     "metadata": {},
     "output_type": "display_data"
    }
   ],
   "source": [
    "plt.figure(figsize =(6,3))\n",
    "plt.subplot(1,2,1)\n",
    "plot_image(250,predict,y_test,test_images)"
   ]
  },
  {
   "cell_type": "code",
   "execution_count": 112,
   "metadata": {},
   "outputs": [
    {
     "data": {
      "image/png": "[encoded data removed]",
      "text/plain": [
       "<Figure size 500x1000 with 14 Axes>"
      ]
     },
     "metadata": {},
     "output_type": "display_data"
    }
   ],
   "source": [
    "plt.figure(figsize = (5,10))\n",
    "for i in range(1,15):\n",
    "    plt.subplot(5,3,i)\n",
    "    plot_image(i,predict,y_test,test_images)\n",
    "\n",
    "plt.show()"
   ]
  },
  {
   "cell_type": "code",
   "execution_count": 113,
   "metadata": {},
   "outputs": [
    {
     "name": "stdout",
     "output_type": "stream",
     "text": [
      "313/313 [==============================] - 1s 3ms/step\n"
     ]
    }
   ],
   "source": [
    "img = test_images\n",
    "predict_single = model.predict(img)\n",
    "\n",
    "\n"
   ]
  },
  {
   "cell_type": "code",
   "execution_count": 114,
   "metadata": {},
   "outputs": [
    {
     "data": {
      "image/png": "[encoded data removed]",
      "text/plain": [
       "<Figure size 500x1000 with 14 Axes>"
      ]
     },
     "metadata": {},
     "output_type": "display_data"
    }
   ],
   "source": [
    "plt.figure(figsize = (5,10))\n",
    "for i in range(1,15):\n",
    "    plt.subplot(5,3,i)\n",
    "    plot_image(i,predict_single,y_test,test_images)\n",
    "\n",
    "plt.show()"
   ]
  },
  {
   "cell_type": "markdown",
   "metadata": {},
   "source": [
    "using an image outside and testing if the algorithm recognizes new data"
   ]
  },
  {
   "cell_type": "code",
   "execution_count": 172,
   "metadata": {},
   "outputs": [
    {
     "name": "stdout",
     "output_type": "stream",
     "text": [
      "(28, 28)\n",
      "1/1 [==============================] - 0s 40ms/step\n"
     ]
    },
    {
     "data": {
      "image/png": "[encoded data removed]",
      "text/plain": [
       "<Figure size 640x480 with 1 Axes>"
      ]
     },
     "metadata": {},
     "output_type": "display_data"
    }
   ],
   "source": [
    "import matplotlib.image as mpimg\n",
    "from PIL import Image\n",
    "imgr = Image.open('digitsexample2.png')\n",
    "imgr = imgr.resize((28,28),Image.ANTIALIAS)\n",
    "imgr = np.array(imgr).T\n",
    "imgr = np.reshape(imgr[0],(28,28))\n",
    "print(imgr.shape)\n",
    "\n",
    "imgr = imgr.T\n",
    "imgr = [[255 - x for x in l] for l in imgr]\n",
    "img = np.expand_dims(imgr,0)\n",
    "predict_single = model.predict(img)\n",
    "plt.imshow(imgr)\n",
    "plt.grid(False)\n",
    "plt.xticks([])\n",
    "plt.yticks([])\n",
    "plt.xlabel(\"This is a: %d P(x) = %.2f\"%(np.argmax(predict_single[0]),predict_single[0][np.argmax(predict_single[0])]))\n",
    "plt.show()"
   ]
  },
  {
   "cell_type": "code",
   "execution_count": 140,
   "metadata": {},
   "outputs": [
    {
     "name": "stdout",
     "output_type": "stream",
     "text": [
      "INFO:tensorflow:Assets written to: ./MyDigitsModel\\assets\n"
     ]
    }
   ],
   "source": [
    "model.save('./MyDigitsModel',save_format ='tf')"
   ]
  }
 ],
 "metadata": {
  "kernelspec": {
   "display_name": "Python 3.9.0 64-bit",
   "language": "python",
   "name": "python3"
  },
  "language_info": {
   "codemirror_mode": {
    "name": "ipython",
    "version": 3
   },
   "file_extension": ".py",
   "mimetype": "text/x-python",
   "name": "python",
   "nbconvert_exporter": "python",
   "pygments_lexer": "ipython3",
   "version": "3.9.0"
  },
  "orig_nbformat": 4,
  "vscode": {
   "interpreter": {
    "hash": "371f0d8b76de229da8650f374ceb97c81a343a7fe35b6fe9a060b6d9abbc1abd"
   }
  }
 },
 "nbformat": 4,
 "nbformat_minor": 2
}
