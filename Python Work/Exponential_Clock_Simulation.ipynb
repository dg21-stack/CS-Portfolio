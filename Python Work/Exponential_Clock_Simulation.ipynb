{
 "cells": [
  {
   "cell_type": "code",
   "execution_count": null,
   "id": "b58bce51",
   "metadata": {},
   "outputs": [],
   "source": [
    "#Exponential distribution used to partition arbitrary network into many low-diameter components with a bounded number of inter-component edges to partition an nxn grid.\n",
    "#exponential_clock_simuation(lamb,n) simulates the algorithm above on a n x n grid with lambda output into a matrix[][] representing the partition of the cells where cells in the same partition should have the same number.\n",
    "#draw_matrix(matrix) draws the matrix."
   ]
  },
  {
   "cell_type": "code",
   "execution_count": 2,
   "id": "0bd2dde6",
   "metadata": {},
   "outputs": [],
   "source": [
    "\n",
    "from pylab import *\n",
    "import queue"
   ]
  },
  {
   "cell_type": "code",
   "execution_count": 3,
   "id": "9d0e8ab4",
   "metadata": {},
   "outputs": [],
   "source": [
    "def exponential_clock_simulation(lamb, n):\n",
    "    direction = array([[0,-1],[0,1],[1,0], [-1,0]])       \n",
    "\n",
    "    matrix = zeros((n, n))\n",
    "    for i in range(n):\n",
    "        for j in range(n):\n",
    "            matrix[i][j] = i*n+j\n",
    "\n",
    "    clock = zeros((n, n))\n",
    "\n",
    "    for i in range(n):\n",
    "        for j in range(n):\n",
    "            clock[i][j] = np.random.exponential(lamb)\n",
    "\n",
    "    max_clock = np.max(clock)\n",
    "\n",
    "    q = queue.PriorityQueue()\n",
    "    distance = zeros((n, n))\n",
    "    for i in range(n):\n",
    "        for j in range(n):\n",
    "            distance[i][j] = max_clock - clock[i][j]\n",
    "            q.put((distance[i][j], i, j))\n",
    "\n",
    "    while not q.empty():\n",
    "        now = q.get()\n",
    "        now_x = now[1]\n",
    "        now_y = now[2]\n",
    "        for i in range(4):\n",
    "            next_x = now_x + direction[i][0]\n",
    "            next_y = now_y + direction[i][1]\n",
    "            if(0<=next_x <n and 0<=next_y<n and distance[next_x][next_y] > distance[now_x][now_y] + 1):\n",
    "                distance[next_x][next_y] = distance[now_x][now_y] + 1\n",
    "                q.put((distance[next_x][next_y], next_x, next_y))\n",
    "                matrix[next_x][next_y]=matrix[now_x][now_y]\n",
    "    return matrix\n",
    "\n"
   ]
  },
  {
   "cell_type": "code",
   "execution_count": 4,
   "id": "080f335d",
   "metadata": {},
   "outputs": [],
   "source": [
    "def draw_matrix(matrix):\n",
    "    figure()\n",
    "    imshow(matrix, alpha=0.8)"
   ]
  },
  {
   "cell_type": "code",
   "execution_count": 5,
   "id": "56c9e7b3",
   "metadata": {},
   "outputs": [],
   "source": [
    "def max_diameter(matrix):\n",
    "    rows = len(matrix)\n",
    "    columns = len(matrix[0])\n",
    "    if(rows != columns):\n",
    "        print(\"it's not a square matrix!\")\n",
    "        return 0\n",
    "    n = rows\n",
    "    \n",
    "    used = zeros((n, n))\n",
    "    distance = zeros((n,n))\n",
    "\n",
    "    for i in range(n):\n",
    "        for j in range(n):\n",
    "            distance[i][j] = 1000000000\n",
    "\n",
    "    direction = array([[0,-1],[0,1],[1,0], [-1,0]])  \n",
    "\n",
    "    max_distance = 0\n",
    "    for i in range(n):\n",
    "        for j in range(n):\n",
    "\n",
    "            max_x = i\n",
    "            max_y = j\n",
    "            if(used[i][j]==0):\n",
    "\n",
    "                q = queue.Queue()\n",
    "                q.put((0, i, j))\n",
    "                used[i][j]=1\n",
    "                distance[i][j]=0\n",
    "\n",
    "                while not q.empty():\n",
    "                    now = q.get()\n",
    "                    now_x = now[1]\n",
    "                    now_y = now[2]\n",
    "                    for k in range(4):\n",
    "                        next_x = now_x + direction[k][0]\n",
    "                        next_y = now_y + direction[k][1]\n",
    "                        if(0<=next_x <n and 0<=next_y<n and used[next_x][next_y]==0 and matrix[next_x][next_y]==matrix[now_x][now_y]):\n",
    "                            distance[next_x][next_y] = distance[now_x][now_y] + 1\n",
    "                            q.put((distance[next_x][next_y], next_x, next_y))\n",
    "                            used[next_x][next_y]= 1\n",
    "                            if(distance[next_x][next_y] > max_distance):\n",
    "                                max_distance = distance[next_x][next_y]\n",
    "    print(\"max_diameter = \" + str(max_distance))\n",
    "    return max_distance"
   ]
  },
  {
   "cell_type": "code",
   "execution_count": 6,
   "id": "e72d1e76",
   "metadata": {},
   "outputs": [],
   "source": [
    "def count_boundary(matrix):\n",
    "    rows = len(matrix)\n",
    "    columns = len(matrix[0])\n",
    "    if(rows != columns):\n",
    "        print(\"it's not a square matrix!\")\n",
    "        return 0\n",
    "    n = rows\n",
    "    \n",
    "    direction = array([[0,1],[1,0]])\n",
    "    counter=0\n",
    "    \n",
    "    for i in range(n-1):\n",
    "        for j in range(n-1):\n",
    "            for k in range(2):\n",
    "                next_i = i + direction[k][0]\n",
    "                next_j = j + direction[k][1]\n",
    "                if(matrix[i][j]!=matrix[next_i][next_j]):\n",
    "                    counter+=1\n",
    "                    \n",
    "                    \n",
    "    print(\"number of inter-component adjacencies over the total number of adjacencies: \" + str(counter/(2*(n*(n-1)))))\n",
    "    return counter"
   ]
  },
  {
   "cell_type": "code",
   "execution_count": 8,
   "id": "67e74a71",
   "metadata": {},
   "outputs": [
    {
     "data": {
      "image/png": "[encoded data removed]",
      "text/plain": [
       "<Figure size 432x288 with 1 Axes>"
      ]
     },
     "metadata": {
      "needs_background": "light"
     },
     "output_type": "display_data"
    },
    {
     "data": {
      "image/png": "[encoded data removed]",
      "text/plain": [
       "<Figure size 432x288 with 1 Axes>"
      ]
     },
     "metadata": {
      "needs_background": "light"
     },
     "output_type": "display_data"
    },
    {
     "data": {
      "image/png": "[encoded data removed]",
      "text/plain": [
       "<Figure size 432x288 with 1 Axes>"
      ]
     },
     "metadata": {
      "needs_background": "light"
     },
     "output_type": "display_data"
    }
   ],
   "source": [
    "\n",
    "matrix = exponential_clock_simulation(2,10)\n",
    "draw_matrix(matrix)\n",
    "matrix = exponential_clock_simulation(3,20)\n",
    "draw_matrix(matrix)\n",
    "matrix = exponential_clock_simulation(4,50)\n",
    "draw_matrix(matrix)"
   ]
  },
  {
   "cell_type": "code",
   "execution_count": 13,
   "id": "70b64ffa",
   "metadata": {
    "scrolled": true
   },
   "outputs": [
    {
     "name": "stdout",
     "output_type": "stream",
     "text": [
      "number of inter-component adjacencies over the total number of adjacencies: 0.1432828282828283\n",
      "max_diameter = 39.0\n"
     ]
    },
    {
     "data": {
      "text/plain": [
       "39.0"
      ]
     },
     "execution_count": 13,
     "metadata": {},
     "output_type": "execute_result"
    },
    {
     "data": {
      "image/png": "[encoded data removed]",
      "text/plain": [
       "<Figure size 432x288 with 1 Axes>"
      ]
     },
     "metadata": {
      "needs_background": "light"
     },
     "output_type": "display_data"
    }
   ],
   "source": [
    "matrix = exponential_clock_simulation(3.5,100)\n",
    "draw_matrix(matrix)\n",
    "count_boundary(matrix)\n",
    "max_diameter(matrix)"
   ]
  }
 ],
 "metadata": {
  "kernelspec": {
   "display_name": "Python 3",
   "language": "python",
   "name": "python3"
  },
  "language_info": {
   "codemirror_mode": {
    "name": "ipython",
    "version": 3
   },
   "file_extension": ".py",
   "mimetype": "text/x-python",
   "name": "python",
   "nbconvert_exporter": "python",
   "pygments_lexer": "ipython3",
   "version": "3.8.8"
  }
 },
 "nbformat": 4,
 "nbformat_minor": 5
}
