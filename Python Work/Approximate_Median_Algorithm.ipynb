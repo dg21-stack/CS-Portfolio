{
 "cells": [
  {
   "cell_type": "code",
   "execution_count": null,
   "id": "ee1261df",
   "metadata": {},
   "outputs": [],
   "source": [
    "## test an approximate median algorithm.\n",
    "#get_current_number() returns the current number of the stream\n",
    "#next_number() the stream will proceed to the next number.\n",
    "#reset() rewin the stream to the first number. \n",
    "#print_stream(stream,size) prints the first #size elements in the stream.\n",
    "# rank(x,stream,size) returns the rank of x among the first #size elements in the stream\n",
    "#sample_without_replacement(t,stream,size) returns a list of t elements that are sampled without replacement from the first #size elements in the stream\n"
   ]
  },
  {
   "cell_type": "code",
   "execution_count": 1,
   "id": "0bd2dde6",
   "metadata": {},
   "outputs": [],
   "source": [
    "from pylab import *\n",
    "import random"
   ]
  },
  {
   "cell_type": "code",
   "execution_count": 2,
   "id": "9d0e8ab4",
   "metadata": {},
   "outputs": [],
   "source": [
    "class input_stream:\n",
    "    def __init__(self,seed):\n",
    "        self.seed = seed\n",
    "        self.current_number = seed\n",
    "        random.seed(seed)\n",
    "        self.current_number += random.random()\n",
    "        self.state = random.getstate()\n",
    "        \n",
    "        \n",
    "    def get_current_number(self):\n",
    "        return self.current_number\n",
    "    \n",
    "    def next_number(self):\n",
    "        tmp = int(floor(self.current_number))\n",
    "        k = tmp * tmp % 2147483647\n",
    "        self.current_number = (k + (tmp ^13561237) )% 2147483647\n",
    "        \n",
    "        random.setstate(self.state)\n",
    "        self.current_number += random.random()\n",
    "        self.state = random.getstate()\n",
    "\n",
    "        return self.current_number\n",
    "    \n",
    "    def reset(self):\n",
    "        self.current_number = self.seed\n",
    "        random.seed(self.seed)\n",
    "        self.current_number += random.random()\n",
    "        self.state = random.getstate()\n",
    "        \n"
   ]
  },
  {
   "cell_type": "code",
   "execution_count": 3,
   "id": "8928d473",
   "metadata": {},
   "outputs": [],
   "source": [
    "def print_stream(stream, size):\n",
    "    stream.reset()\n",
    "    for i in range(size):\n",
    "        print(stream.current_number)\n",
    "        stream.next_number()\n"
   ]
  },
  {
   "cell_type": "code",
   "execution_count": 4,
   "id": "99e6bd0e",
   "metadata": {},
   "outputs": [],
   "source": [
    "def rank(x , stream, size):\n",
    "    count = 0\n",
    "    \n",
    "    stream.reset()\n",
    "    for i in range(size):\n",
    "        if(stream.get_current_number() <= x):\n",
    "            count = count + 1\n",
    "        stream.next_number()\n",
    "    return count\n",
    "    "
   ]
  },
  {
   "cell_type": "code",
   "execution_count": 5,
   "id": "7f7ba0c7",
   "metadata": {},
   "outputs": [],
   "source": [
    "def sample_without_replacement(t, stream, size):\n",
    "    indices = []\n",
    "    for i in range(t):\n",
    "        indices.append(randint(0,size))\n",
    "    indices.sort()\n",
    "\n",
    "    pos = 0\n",
    "    ind = 0\n",
    "    ans = []\n",
    "\n",
    "    stream.reset()\n",
    "    for i in range(size):\n",
    "\n",
    "        while(ind < t and indices[ind] == pos):\n",
    "            ans.append(stream.current_number)\n",
    "            ind+=1\n",
    "\n",
    "        pos+=1\n",
    "        stream.next_number()\n",
    "    return ans"
   ]
  },
  {
   "cell_type": "code",
   "execution_count": 6,
   "id": "acdf2b96",
   "metadata": {
    "scrolled": false
   },
   "outputs": [
    {
     "name": "stdout",
     "output_type": "stream",
     "text": [
      "1232370735.1545439 575154\n",
      "936229339.5932728 440379\n",
      "1064263904.3392332 499240\n"
     ]
    }
   ],
   "source": [
    "\n",
    "\n",
    "s = input_stream(309)\n",
    "\n",
    "stream_size = 1000000\n",
    "\n",
    "for sample_size in [10,100,1000]:\n",
    "\n",
    "    samples = sample_without_replacement(sample_size, s, 1000000)\n",
    "\n",
    "    approx_median = median(samples)\n",
    "\n",
    "    r = rank(approx_median, s, 1000000)\n",
    "    print(approx_median, r)\n"
   ]
  },
  {
   "cell_type": "code",
   "execution_count": null,
   "id": "dc508189",
   "metadata": {},
   "outputs": [],
   "source": []
  }
 ],
 "metadata": {
  "kernelspec": {
   "display_name": "Python 3",
   "language": "python",
   "name": "python3"
  },
  "language_info": {
   "codemirror_mode": {
    "name": "ipython",
    "version": 3
   },
   "file_extension": ".py",
   "mimetype": "text/x-python",
   "name": "python",
   "nbconvert_exporter": "python",
   "pygments_lexer": "ipython3",
   "version": "3.8.8"
  }
 },
 "nbformat": 4,
 "nbformat_minor": 5
}
